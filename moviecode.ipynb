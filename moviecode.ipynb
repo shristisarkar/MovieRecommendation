{
 "cells": [
  {
   "cell_type": "markdown",
   "id": "f0c21217-d542-443d-ac54-b8a160ff57e9",
   "metadata": {},
   "source": [
    "## Objective\n",
    "The goal is to build a recommendation system that suggests movies to users based on their preferences using machine learning techniques."
   ]
  },
  {
   "cell_type": "markdown",
   "id": "af55ae22-b0ea-4d6c-8dc7-1d85f12beebf",
   "metadata": {},
   "source": [
    "\n",
    "## Import Libraries\n",
    "\n"
   ]
  },
  {
   "cell_type": "code",
   "execution_count": 5,
   "id": "6c28446f-911a-4f9f-a0a1-a04de5581412",
   "metadata": {},
   "outputs": [],
   "source": [
    "import pandas as pd\n",
    "import numpy as np\n",
    "import matplotlib.pyplot as plt\n",
    "import seaborn as sns\n",
    "from sklearn.model_selection import train_test_split\n",
    "from sklearn.metrics.pairwise import cosine_similarity\n",
    "from sklearn.metrics import mean_squared_error\n",
    "\n"
   ]
  },
  {
   "cell_type": "markdown",
   "id": "923b7299-0d96-4a4a-ac63-9c0010a7a0ac",
   "metadata": {},
   "source": [
    "## Import Data From Data Source"
   ]
  },
  {
   "cell_type": "code",
   "execution_count": 14,
   "id": "0345300c-b51c-4ab2-846e-2adb7c56b479",
   "metadata": {},
   "outputs": [
    {
     "ename": "SyntaxError",
     "evalue": "invalid syntax (2994826304.py, line 1)",
     "output_type": "error",
     "traceback": [
      "\u001b[1;36m  Cell \u001b[1;32mIn[14], line 1\u001b[1;36m\u001b[0m\n\u001b[1;33m    Load datasets\u001b[0m\n\u001b[1;37m         ^\u001b[0m\n\u001b[1;31mSyntaxError\u001b[0m\u001b[1;31m:\u001b[0m invalid syntax\n"
     ]
    }
   ],
   "source": [
    " Load datasets\n",
    "movies = pd.read_csv('movies.csv')\n",
    "ratings = pd.read_csv('ratings.csv')\n"
   ]
  },
  {
   "cell_type": "markdown",
   "id": "db0852fe-edb9-47b6-a020-609446cc9cfb",
   "metadata": {},
   "source": [
    "## Describe Data"
   ]
  },
  {
   "cell_type": "code",
   "execution_count": 15,
   "id": "3b6626cc-eb14-49a1-b977-a5d53478ce38",
   "metadata": {},
   "outputs": [
    {
     "ename": "SyntaxError",
     "evalue": "invalid syntax (3734795316.py, line 1)",
     "output_type": "error",
     "traceback": [
      "\u001b[1;36m  Cell \u001b[1;32mIn[15], line 1\u001b[1;36m\u001b[0m\n\u001b[1;33m    Basic information about the datasets\u001b[0m\n\u001b[1;37m          ^\u001b[0m\n\u001b[1;31mSyntaxError\u001b[0m\u001b[1;31m:\u001b[0m invalid syntax\n"
     ]
    }
   ],
   "source": [
    " Basic information about the datasets\n",
    "print(movies.info())\n",
    "print(ratings.info())\n",
    "\n",
    "# Display the first few rows of the datasets\n",
    "print(movies.head())\n",
    "print(ratings.head())"
   ]
  },
  {
   "cell_type": "markdown",
   "id": "1a65eb1c-acb2-4d14-8918-8807663842bd",
   "metadata": {},
   "source": [
    "## Data Visualisation"
   ]
  },
  {
   "cell_type": "code",
   "execution_count": 10,
   "id": "73e46c4d-d839-495e-bc37-705b49c2b3d7",
   "metadata": {},
   "outputs": [
    {
     "ename": "SyntaxError",
     "evalue": "invalid syntax (1987161798.py, line 1)",
     "output_type": "error",
     "traceback": [
      "\u001b[1;36m  Cell \u001b[1;32mIn[10], line 1\u001b[1;36m\u001b[0m\n\u001b[1;33m    Distribution of movie ratings\u001b[0m\n\u001b[1;37m                 ^\u001b[0m\n\u001b[1;31mSyntaxError\u001b[0m\u001b[1;31m:\u001b[0m invalid syntax\n"
     ]
    }
   ],
   "source": [
    "Distribution of movie ratings\n",
    "plt.figure(figsize=(10, 5))\n",
    "sns.histplot(ratings['rating'], bins=20, kde=False)\n",
    "plt.title('Distribution of Movie Ratings')\n",
    "plt.xlabel('Rating')\n",
    "plt.ylabel('Frequency')\n",
    "plt.show()\n",
    "\n",
    "# Count of movies per genre\n",
    "movies['genres'] = movies['genres'].apply(lambda x: x.split('|'))\n",
    "all_genres = [genre for sublist in movies['genres'] for genre in sublist]\n",
    "plt.figure(figsize=(12, 6))\n",
    "sns.countplot(y=all_genres, order=pd.Series(all_genres).value_counts().index)\n",
    "plt.title('Count of Movies per Genre')\n",
    "plt.xlabel('Count')\n",
    "plt.ylabel('Genre')\n",
    "plt.show()\n"
   ]
  },
  {
   "cell_type": "markdown",
   "id": "fadc7f48-2516-479d-b345-3f6e8bdbf884",
   "metadata": {},
   "source": [
    "## Data Preprocessing"
   ]
  },
  {
   "cell_type": "code",
   "execution_count": 16,
   "id": "81b0f695-9b0b-4adb-a077-de564e221a6f",
   "metadata": {},
   "outputs": [
    {
     "ename": "SyntaxError",
     "evalue": "invalid syntax (1898596072.py, line 1)",
     "output_type": "error",
     "traceback": [
      "\u001b[1;36m  Cell \u001b[1;32mIn[16], line 1\u001b[1;36m\u001b[0m\n\u001b[1;33m    Merge the movies and ratings datasets on movieId\u001b[0m\n\u001b[1;37m          ^\u001b[0m\n\u001b[1;31mSyntaxError\u001b[0m\u001b[1;31m:\u001b[0m invalid syntax\n"
     ]
    }
   ],
   "source": [
    " Merge the movies and ratings datasets on movieId\n",
    "merged_data = pd.merge(ratings, movies, on='movieId')\n",
    "\n",
    "# Pivot the table to create a matrix of users and their ratings\n",
    "user_movie_matrix = merged_data.pivot_table(index='userId', columns='title', values='rating')\n",
    "\n",
    "# Fill NaN values with 0 (or you could use mean-centered values)\n",
    "user_movie_matrix.fillna(0, inplace=True)"
   ]
  },
  {
   "cell_type": "markdown",
   "id": "bd893e51-c393-42b6-856d-12ac858ad9d4",
   "metadata": {},
   "source": [
    "## Test Train Split\n"
   ]
  },
  {
   "cell_type": "code",
   "execution_count": 18,
   "id": "a4f27ade-ff5d-4853-a73e-48108eff57f8",
   "metadata": {},
   "outputs": [],
   "source": [
    "# train_data, test_data = train_test_split(merged_data, test_size=0.2, random_state=42)\n"
   ]
  },
  {
   "cell_type": "markdown",
   "id": "12786ff4-a6ea-4c76-81d6-205b32f202f2",
   "metadata": {},
   "source": [
    "## Modelling and Model evaluation and Prediction"
   ]
  },
  {
   "cell_type": "code",
   "execution_count": 19,
   "id": "ceb3f4c0-c52e-41d6-a25b-1c63db48dcc6",
   "metadata": {},
   "outputs": [
    {
     "ename": "SyntaxError",
     "evalue": "invalid syntax (3506012491.py, line 1)",
     "output_type": "error",
     "traceback": [
      "\u001b[1;36m  Cell \u001b[1;32mIn[19], line 1\u001b[1;36m\u001b[0m\n\u001b[1;33m    Compute the cosine similarity matrix\u001b[0m\n\u001b[1;37m            ^\u001b[0m\n\u001b[1;31mSyntaxError\u001b[0m\u001b[1;31m:\u001b[0m invalid syntax\n"
     ]
    }
   ],
   "source": [
    "Compute the cosine similarity matrix\n",
    "cosine_sim = cosine_similarity(user_movie_matrix)\n",
    "\n",
    "# Create a DataFrame from the similarity matrix\n",
    "cosine_sim_df = pd.DataFrame(cosine_sim, index=user_movie_matrix.index, columns=user_movie_matrix.index)\n",
    "def predict_ratings(user_movie_matrix, similarity_matrix):\n",
    "    # Dot product of similarity matrix and user_movie matrix\n",
    "    pred_ratings = np.dot(similarity_matrix, user_movie_matrix)\n",
    "    return pred_ratings\n",
    "\n",
    "# Predict ratings for all users\n",
    "pred_ratings = predict_ratings(user_movie_matrix, cosine_sim)\n",
    "pred_ratings_df = pd.DataFrame(pred_ratings, index=user_movie_matrix.index, columns=user_movie_matrix.columns)\n",
    "# Root Mean Squared Error (RMSE)\n",
    "def rmse(true_ratings, predicted_ratings):\n",
    "    return np.sqrt(mean_squared_error(true_ratings, predicted_ratings))\n",
    "\n",
    "# Evaluate model performance\n",
    "print(f'RMSE: {rmse(test_data[\"rating\"], pred_ratings)}')\n",
    "# Recommend top N movies for a specific user\n",
    "def recommend_movies(user_id, num_recommendations=5):\n",
    "    user_ratings = pred_ratings_df.loc[user_id].sort_values(ascending=False)\n",
    "    watched_movies = user_movie_matrix.columns[user_movie_matrix.loc[user_id] > 0]\n",
    "    recommendations = user_ratings.drop(watched_movies).head(num_recommendations)\n",
    "    return recommendations.index\n",
    "\n",
    "# Get recommendations for a specific user\n",
    "user_id = 1\n",
    "recommended_movies = recommend_movies(user_id)\n",
    "print(f\"Top {len(recommended_movies)} movie recommendations for User {user_id}: {list(recommended_movies)}\")\n",
    "\n"
   ]
  },
  {
   "cell_type": "code",
   "execution_count": null,
   "id": "d1542c55-964e-4bb4-803f-a5a13c7f9a05",
   "metadata": {},
   "outputs": [],
   "source": []
  }
 ],
 "metadata": {
  "kernelspec": {
   "display_name": "Python 3 (ipykernel)",
   "language": "python",
   "name": "python3"
  },
  "language_info": {
   "codemirror_mode": {
    "name": "ipython",
    "version": 3
   },
   "file_extension": ".py",
   "mimetype": "text/x-python",
   "name": "python",
   "nbconvert_exporter": "python",
   "pygments_lexer": "ipython3",
   "version": "3.11.7"
  }
 },
 "nbformat": 4,
 "nbformat_minor": 5
}
